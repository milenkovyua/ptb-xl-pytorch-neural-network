{
 "cells": [
  {
   "cell_type": "code",
   "execution_count": 1,
   "id": "1018ce62-135d-484c-b18f-0aa83f262072",
   "metadata": {},
   "outputs": [],
   "source": [
    "import torch\n",
    "import torch.nn as nn\n",
    "import torch.nn.functional as F\n",
    "import numpy as np\n",
    "import wfdb\n",
    "import ast\n",
    "import pandas as pd\n",
    "import matplotlib.pyplot as plt\n",
    "from sklearn.model_selection import train_test_split\n",
    "%matplotlib inline\n",
    "\n",
    "frequence = 100 # For testing purposes we are going to use the 100 Hz data. The 500 Hz data must be used only in the supercomputer\n",
    "time = 10 # The recorded time of the data in seconds\n",
    "sequence_features = 12 # how much features from the ECG we are observing\n",
    "input_nums = frequence * sequence_features * time # this is the amount of data we are going to feed\n",
    "\n",
    "# testing with 4 middle layers, doesn't produced different results so we are left with only 3 middle layers\n",
    "# h1_middle_layer_neurons = int(input_nums * 0.75) # here we reduce the layers to half the size of the data we use\n",
    "# h2_middle_layer_neurons = int(input_nums * 0.5) # and for the second hidden layer we use quater the data size\n",
    "# h3_middle_layer_neurons = int(input_nums * 0.25) # and for the second hidden layer we use quater the data size\n",
    "# h4_middle_layer_neurons = int(input_nums * 0.1) # and for the second hidden layer we use quater the data size\n",
    "\n",
    "h1_middle_layer_neurons = int(input_nums / 2) # here we reduce the layers to half the size of the data we use\n",
    "h2_middle_layer_neurons = int(input_nums / 4) # and for the second hidden layer we use quater the data size\n",
    "\n",
    "# age range to filter the patients data for better accuracy and less data manipulations\n",
    "min_age = 35\n",
    "max_age = 50\n",
    "\n",
    "path = '/home/yuli/py-venv-1/ptb-xl-data/'\n",
    "sampling_rate=frequence\n",
    "\n",
    "# Create a new model class that inherits nn.Module\n",
    "class Model(nn.Module):\n",
    "    # input layer with 12 features of the ptb-xl\n",
    "    # hidden layer h1 with number of neurons\n",
    "    # hidden layer h2 with other number of neurons\n",
    "    # ->> output with 2 classes of sick and healthy\n",
    "    def __init__(self,\n",
    "                in_features=input_nums,\n",
    "                h1=h1_middle_layer_neurons,\n",
    "                h2=h2_middle_layer_neurons, \n",
    "                # h3=h3_middle_layer_neurons,\n",
    "                # h4=h4_middle_layer_neurons,\n",
    "                out_features=2):\n",
    "    # def __init__(self, in_features=12000, h1=6000, h2=3000, out_features=2):\n",
    "        super().__init__()\n",
    "        self.fc1 = nn.Linear(in_features, h1)\n",
    "        self.fc2 = nn.Linear(h1, h2)\n",
    "        # self.fc3 = nn.Linear(h2, h3)\n",
    "        # self.fc4 = nn.Linear(h3, h4)\n",
    "        self.out = nn.Linear(h2, out_features)\n",
    "\n",
    "    def forward(self, x):\n",
    "        x = F.relu(self.fc1(x))\n",
    "        x = F.relu(self.fc2(x))\n",
    "        # x = F.relu(self.fc3(x))\n",
    "        # x = F.relu(self.fc4(x))\n",
    "        x = self.out(x)\n",
    "\n",
    "        return x\n",
    "    \n",
    "# Pick manual seed for randomization\n",
    "torch.manual_seed(29)\n",
    "\n",
    "# Instantiate our model\n",
    "\n",
    "model = Model()"
   ]
  },
  {
   "cell_type": "code",
   "execution_count": 2,
   "id": "8ae610b6",
   "metadata": {},
   "outputs": [],
   "source": [
    "def load_raw_data(df, sampling_rate, path):\n",
    "    if sampling_rate == 100:\n",
    "        data = [wfdb.rdsamp(path+f) for f in df.filename_lr]\n",
    "    else:\n",
    "        data = [wfdb.rdsamp(path+f) for f in df.filename_hr]\n",
    "    data = np.array([signal for signal, meta in data])\n",
    "    return data"
   ]
  },
  {
   "cell_type": "code",
   "execution_count": 3,
   "id": "8c662185",
   "metadata": {},
   "outputs": [],
   "source": [
    "# load and convert annotation data\n",
    "Y = pd.read_csv(path+'ptbxl_database.csv', index_col='ecg_id')\n",
    "Y.scp_codes = Y.scp_codes.apply(lambda x: ast.literal_eval(x))"
   ]
  },
  {
   "cell_type": "code",
   "execution_count": 4,
   "id": "fb770255",
   "metadata": {},
   "outputs": [],
   "source": [
    "# filtering the patients by age, and only if the result is validated by human\n",
    "# for higher accuracy\n",
    "Y = Y[Y['age'].between(min_age, max_age)]\n",
    "Y = Y[(Y['validated_by_human'] == True)]\n",
    "# Y = Y[(Y['strat_fold'] == 10)]\n",
    "\n",
    "# change filter by report text\n",
    "# Y = Y[(Y.report == 'sinusrhythmus normales ekg')]\n"
   ]
  },
  {
   "cell_type": "code",
   "execution_count": 5,
   "id": "64eb9cf8",
   "metadata": {},
   "outputs": [],
   "source": [
    "# Y.report"
   ]
  },
  {
   "cell_type": "code",
   "execution_count": 6,
   "id": "a1b7a1b9",
   "metadata": {},
   "outputs": [],
   "source": [
    "# Load raw signal data\n",
    "X = load_raw_data(Y, sampling_rate, path)\n",
    "\n",
    "# Load scp_statements.csv for diagnostic aggregation\n",
    "agg_df = pd.read_csv(path+'scp_statements.csv', index_col=0)\n",
    "agg_df = agg_df[agg_df.diagnostic == 1]"
   ]
  },
  {
   "cell_type": "code",
   "execution_count": 7,
   "id": "94d22a3a",
   "metadata": {},
   "outputs": [],
   "source": [
    "def aggregate_diagnostic(y_dic: dict):\n",
    "    tmp = []\n",
    "    dic_keys = y_dic.keys()\n",
    "    if 'NORM' in dic_keys and 'SR' in dic_keys:\n",
    "        tmp.append(0.0)\n",
    "    else:\n",
    "        tmp.append(1.0)\n",
    "\n",
    "    return list(set(tmp))\n",
    "\n",
    "def aggregate_diagnostic_by_report(report: str):\n",
    "    tmp = []\n",
    "    if report == 'sinusrhythmus normales ekg': # all patients having normal sinus rythm are considered healthy\n",
    "        # all other patients with some deviations from the norm are considered sick\n",
    "        tmp.append(0.0)\n",
    "    else:\n",
    "        tmp.append(1.0)\n",
    "\n",
    "    return list(set(tmp))\n",
    "\n",
    "# Apply diagnostic superclass\n",
    "# Y['diagnostic_superclass'] = Y.scp_codes.apply(aggregate_diagnostic)\n",
    "Y['diagnostic_superclass'] = Y.report.apply(aggregate_diagnostic_by_report)\n",
    "\n"
   ]
  },
  {
   "cell_type": "code",
   "execution_count": 8,
   "id": "48a0c976",
   "metadata": {},
   "outputs": [],
   "source": [
    "# Y['diagnostic_superclass']"
   ]
  },
  {
   "cell_type": "code",
   "execution_count": 9,
   "id": "8a651cf0",
   "metadata": {},
   "outputs": [],
   "source": [
    "# Creating two temporarly X and y matrices, we are going to use to apply further data\n",
    "# manipulations to ensure only valid data is used for the training process\n",
    "# this will give us high level of predictions\n",
    "X_tmp = X\n",
    "y_tmp = Y.diagnostic_superclass.values"
   ]
  },
  {
   "cell_type": "code",
   "execution_count": 10,
   "id": "c4c6cb29",
   "metadata": {},
   "outputs": [],
   "source": [
    "X_f = []\n",
    "y_f = []\n",
    "\n",
    "# normalizing the data\n",
    "for i in range(len(X_tmp)):\n",
    "    if (len(y_tmp[i]) > 0):\n",
    "        tmparr = np.array(X_tmp[i])\n",
    "        tmparr = np.concatenate(tmparr)\n",
    "        X_f.append(tmparr)\n",
    "        y_f.append(y_tmp[i][0])\n",
    "\n",
    "X_tmp = X_f\n",
    "y_tmp = y_f\n"
   ]
  },
  {
   "cell_type": "code",
   "execution_count": 11,
   "id": "60691437",
   "metadata": {},
   "outputs": [],
   "source": [
    "# Split the data into training and testing sets\n",
    "# X_train, X_test, y_train, y_test = train_test_split(X_tmp, y_tmp, test_size=0.05, random_state=29)\n",
    "X_train, X_test, y_train, y_test = train_test_split(X_tmp, y_tmp, test_size=0.1, random_state=29)"
   ]
  },
  {
   "cell_type": "code",
   "execution_count": 12,
   "id": "8d8b58ca",
   "metadata": {},
   "outputs": [],
   "source": [
    "# Convert X features to float tensors\n",
    "X_train = torch.FloatTensor(np.asarray(X_train))\n",
    "X_test = torch.FloatTensor(np.asarray(X_test))\n",
    "# convert the y labels to tensors long\n",
    "# y_train = torch.LongTensor(np.concatenate(y_train))\n",
    "y_train = torch.LongTensor(y_train)\n",
    "y_test = torch.LongTensor(y_test)"
   ]
  },
  {
   "cell_type": "code",
   "execution_count": 13,
   "id": "9f0f610d",
   "metadata": {},
   "outputs": [],
   "source": [
    "# set the criterion/deviation of model to measure the error\n",
    "# or how far off the predictions are from the data\n",
    "criterion = nn.CrossEntropyLoss()\n",
    "\n",
    "# Choose Adam optimizer - lr is learning rate\n",
    "optimizer = torch.optim.Adam(model.parameters(), lr=0.00001 )\n",
    "# optimizer = torch.optim.Adamax(model.parameters(), lr=0.001)\n"
   ]
  },
  {
   "cell_type": "code",
   "execution_count": null,
   "id": "18c378fd",
   "metadata": {},
   "outputs": [
    {
     "name": "stdout",
     "output_type": "stream",
     "text": [
      "Epoch: 1 and loss is: 0.720876753330\n",
      "Epoch: 2 and loss is: 0.694193601608\n",
      "Epoch: 10 and loss is: 0.521477997303\n",
      "Epoch: 20 and loss is: 0.381419211626\n",
      "Epoch: 30 and loss is: 0.298771500587\n",
      "Epoch: 40 and loss is: 0.251381456852\n",
      "Epoch: 50 and loss is: 0.219225674868\n",
      "Epoch: 60 and loss is: 0.192791596055\n",
      "Epoch: 70 and loss is: 0.169616430998\n",
      "Epoch: 80 and loss is: 0.149109914899\n",
      "Epoch: 90 and loss is: 0.130919724703\n",
      "Epoch: 100 and loss is: 0.114808641374\n"
     ]
    }
   ],
   "source": [
    "# Train our model\n",
    "epochs = 100 # we want to print the result from the 100th epoch as well so we are doing 100 + 1 iterations\n",
    "loses = []\n",
    "\n",
    "for i in range(epochs):\n",
    "    # go forward and get a prediction\n",
    "    y_pred = model.forward(X_train)\n",
    "\n",
    "    # measure the loss/error - gonna be high at first\n",
    "    loss = criterion(y_pred, y_train)\n",
    "\n",
    "    # keep track of our loses\n",
    "    loses.append(loss.detach().numpy())\n",
    "\n",
    "    # print every 10 epochs\n",
    "    if (i+1) % 10 == 0 or i == 0:\n",
    "        print(f'Epoch: {i+1} and loss is: {loss:.12f}')\n",
    "\n",
    "    # Do some backpropagation: take the error rate of forward propagation and feed it back\n",
    "    # thru the network to fine tune the weights\n",
    "    optimizer.zero_grad()\n",
    "    loss.backward()\n",
    "    optimizer.step()"
   ]
  },
  {
   "cell_type": "code",
   "execution_count": 15,
   "id": "08e3aa69",
   "metadata": {},
   "outputs": [
    {
     "name": "stdout",
     "output_type": "stream",
     "text": [
      "first error is: 0.7208768 and last error is 0.1148086\n"
     ]
    }
   ],
   "source": [
    "print(f'first error is: {loses[0]:.7f} and last error is {loses[epochs-1]:.7f}')"
   ]
  },
  {
   "cell_type": "code",
   "execution_count": 16,
   "id": "77f34ff4",
   "metadata": {},
   "outputs": [
    {
     "data": {
      "text/plain": [
       "Text(0.5, 0, 'Epochs')"
      ]
     },
     "execution_count": 16,
     "metadata": {},
     "output_type": "execute_result"
    },
    {
     "data": {
      "image/png": "[encoded data removed]",
      "text/plain": [
       "<Figure size 640x480 with 1 Axes>"
      ]
     },
     "metadata": {},
     "output_type": "display_data"
    }
   ],
   "source": [
    "plt.plot(range(epochs), loses)\n",
    "plt.ylabel('Loss/error')\n",
    "plt.xlabel('Epochs')"
   ]
  },
  {
   "cell_type": "code",
   "execution_count": 17,
   "id": "b302d4e2",
   "metadata": {},
   "outputs": [
    {
     "data": {
      "text/plain": [
       "tensor(0.2758)"
      ]
     },
     "execution_count": 17,
     "metadata": {},
     "output_type": "execute_result"
    }
   ],
   "source": [
    "# Evaluate model on test data set - validation\n",
    "\n",
    "with torch.no_grad(): # no_grad turn off back propagation so we only test data on the model\n",
    "    y_eval = model.forward(X_test) # X_test is our test set. y_eval are the predictions of the model\n",
    "    loss = criterion(y_eval, y_test) # this is our loss - how much of the train data has inaccurate results after evaluating\n",
    "\n",
    "loss\n"
   ]
  },
  {
   "cell_type": "code",
   "execution_count": 18,
   "id": "2b10e00a",
   "metadata": {},
   "outputs": [
    {
     "data": {
      "text/plain": [
       "tensor(0.2758)"
      ]
     },
     "execution_count": 18,
     "metadata": {},
     "output_type": "execute_result"
    }
   ],
   "source": [
    "loss"
   ]
  },
  {
   "cell_type": "code",
   "execution_count": 19,
   "id": "a30aafa6",
   "metadata": {},
   "outputs": [
    {
     "data": {
      "text/plain": [
       "tensor([1, 1, 1, 1, 1, 1, 1, 1, 1, 1, 1, 1, 1, 1, 1, 0, 1, 1, 1, 1, 1, 1, 1, 1,\n",
       "        0, 1, 1, 1, 1, 1, 1, 1, 1, 1, 1, 1, 1, 1, 1, 1, 1, 1, 1, 1, 1, 1, 1, 1,\n",
       "        1, 1, 1, 1, 1, 1, 1, 1, 1, 1, 1, 1, 1, 1, 1, 1, 1, 1, 0, 1, 1, 1, 1, 1,\n",
       "        1, 1, 1, 1, 1, 1, 1, 1, 1, 1, 1, 1, 1, 1, 1, 0, 1, 1, 1, 1, 1, 1, 1, 1,\n",
       "        1, 1, 1, 1, 1, 1, 1, 1, 1, 0, 1, 0, 1, 1, 1, 1, 1, 1, 1, 1, 1, 1, 0, 0,\n",
       "        1, 1, 1, 1, 1, 1, 1, 1, 0, 1, 1, 1, 1, 1, 0, 1, 0, 1, 1, 1, 1, 1, 1, 1,\n",
       "        1, 1, 0, 1, 1, 1, 1, 1, 1, 1, 1, 1, 1, 1, 1, 0, 1, 1, 1, 1, 1, 1, 1, 1,\n",
       "        1, 1, 1, 1, 1, 1, 1, 1, 1, 1, 1, 1, 1, 1, 1, 1, 1, 1, 1, 1, 1, 1, 1, 1,\n",
       "        1, 1, 1, 1, 1, 1, 1, 0, 1, 1, 0, 1, 1, 1, 1, 1, 1, 1, 1, 1, 1, 1, 1, 1,\n",
       "        1, 1, 1, 1, 1, 1, 1, 1, 1, 1, 1, 1, 1, 1, 1, 1, 1, 1, 1, 1, 1, 1, 1, 1,\n",
       "        1, 1, 1, 1, 1, 1, 1, 1, 1, 1, 1, 1, 1, 1, 1, 0, 1, 0, 1, 0, 0, 1, 1, 1,\n",
       "        1, 1, 1, 1, 1, 1, 1, 1])"
      ]
     },
     "execution_count": 19,
     "metadata": {},
     "output_type": "execute_result"
    }
   ],
   "source": [
    "y_test\n",
    "# Y\n",
    "# Y.scp_codes"
   ]
  },
  {
   "cell_type": "code",
   "execution_count": null,
   "id": "8809370c",
   "metadata": {},
   "outputs": [
    {
     "name": "stdout",
     "output_type": "stream",
     "text": [
      "0 : tensor([-1.6686,  1.6422]) - 1  - 1\n",
      "1 : tensor([-1.9736,  1.9699]) - 1  - 1\n",
      "2 : tensor([-0.8291,  0.8228]) - 1  - 1\n",
      "3 : tensor([-1.1216,  1.0861]) - 1  - 1\n",
      "4 : tensor([-2.8468,  2.8882]) - 1  - 1\n",
      "5 : tensor([-1.1345,  1.1590]) - 1  - 1\n",
      "6 : tensor([-1.5128,  1.5240]) - 1  - 1\n",
      "7 : tensor([-1.2894,  1.2906]) - 1  - 1\n",
      "8 : tensor([-1.0006,  1.0053]) - 1  - 1\n",
      "9 : tensor([-1.4603,  1.4695]) - 1  - 1\n",
      "10 : tensor([-1.4789,  1.4541]) - 1  - 1\n",
      "11 : tensor([-1.1921,  1.2258]) - 1  - 1\n",
      "12 : tensor([-1.8030,  1.8286]) - 1  - 1\n",
      "13 : tensor([-1.3714,  1.3626]) - 1  - 1\n",
      "14 : tensor([-2.2642,  2.2668]) - 1  - 1\n",
      "15 : tensor([-1.4974,  1.4931]) - 1  - 0\n",
      "16 : tensor([-2.1771,  2.1921]) - 1  - 1\n",
      "17 : tensor([-0.9337,  0.9658]) - 1  - 1\n",
      "18 : tensor([-1.5232,  1.5046]) - 1  - 1\n",
      "19 : tensor([-2.2234,  2.2253]) - 1  - 1\n",
      "20 : tensor([-1.2736,  1.2967]) - 1  - 1\n",
      "21 : tensor([-1.1651,  1.1690]) - 1  - 1\n",
      "22 : tensor([-1.9116,  1.9563]) - 1  - 1\n",
      "23 : tensor([-0.8735,  0.8747]) - 1  - 1\n",
      "24 : tensor([-0.9491,  0.9297]) - 1  - 0\n",
      "25 : tensor([-1.5612,  1.5685]) - 1  - 1\n",
      "26 : tensor([-0.5232,  0.5306]) - 1  - 1\n",
      "27 : tensor([-2.8231,  2.8283]) - 1  - 1\n",
      "28 : tensor([-1.4707,  1.4665]) - 1  - 1\n",
      "29 : tensor([-1.5250,  1.4977]) - 1  - 1\n",
      "30 : tensor([-2.2059,  2.2365]) - 1  - 1\n",
      "31 : tensor([-2.2101,  2.2639]) - 1  - 1\n",
      "32 : tensor([-1.0871,  1.0805]) - 1  - 1\n",
      "33 : tensor([-2.8140,  2.8165]) - 1  - 1\n",
      "34 : tensor([-0.8494,  0.8736]) - 1  - 1\n",
      "35 : tensor([-1.4812,  1.4620]) - 1  - 1\n",
      "36 : tensor([-2.5409,  2.6216]) - 1  - 1\n",
      "37 : tensor([-2.5552,  2.5645]) - 1  - 1\n",
      "38 : tensor([-1.2001,  1.2281]) - 1  - 1\n",
      "39 : tensor([-1.6928,  1.7426]) - 1  - 1\n",
      "40 : tensor([-1.1755,  1.1753]) - 1  - 1\n",
      "41 : tensor([-1.4990,  1.4855]) - 1  - 1\n",
      "42 : tensor([-0.9400,  0.9044]) - 1  - 1\n",
      "43 : tensor([-2.6756,  2.6656]) - 1  - 1\n",
      "44 : tensor([-1.2482,  1.2443]) - 1  - 1\n",
      "45 : tensor([-1.3662,  1.3599]) - 1  - 1\n",
      "46 : tensor([-1.3547,  1.3639]) - 1  - 1\n",
      "47 : tensor([-1.2212,  1.2092]) - 1  - 1\n",
      "48 : tensor([-1.4336,  1.4345]) - 1  - 1\n",
      "49 : tensor([-1.8818,  1.9311]) - 1  - 1\n",
      "50 : tensor([-1.2140,  1.2122]) - 1  - 1\n",
      "51 : tensor([-2.1082,  2.1113]) - 1  - 1\n",
      "52 : tensor([-1.9274,  1.9163]) - 1  - 1\n",
      "53 : tensor([-1.6129,  1.6117]) - 1  - 1\n",
      "54 : tensor([-1.0109,  1.0066]) - 1  - 1\n",
      "55 : tensor([-1.8059,  1.8114]) - 1  - 1\n",
      "56 : tensor([-1.0660,  1.0302]) - 1  - 1\n",
      "57 : tensor([-0.7965,  0.7855]) - 1  - 1\n",
      "58 : tensor([-1.1917,  1.2102]) - 1  - 1\n",
      "59 : tensor([-1.2045,  1.2043]) - 1  - 1\n",
      "60 : tensor([-1.3503,  1.3078]) - 1  - 1\n",
      "61 : tensor([-1.1153,  1.1122]) - 1  - 1\n",
      "62 : tensor([-1.4386,  1.4999]) - 1  - 1\n",
      "63 : tensor([-1.3616,  1.3804]) - 1  - 1\n",
      "64 : tensor([-2.3480,  2.3676]) - 1  - 1\n",
      "65 : tensor([-1.1903,  1.1995]) - 1  - 1\n",
      "66 : tensor([-1.2408,  1.2792]) - 1  - 0\n",
      "67 : tensor([-1.4037,  1.4009]) - 1  - 1\n",
      "68 : tensor([-2.2764,  2.3106]) - 1  - 1\n",
      "69 : tensor([-1.2352,  1.2436]) - 1  - 1\n",
      "70 : tensor([-1.1797,  1.2006]) - 1  - 1\n",
      "71 : tensor([-0.9311,  0.9580]) - 1  - 1\n",
      "72 : tensor([-1.1344,  1.1207]) - 1  - 1\n",
      "73 : tensor([-1.0459,  1.0881]) - 1  - 1\n",
      "74 : tensor([-1.2898,  1.3076]) - 1  - 1\n",
      "75 : tensor([-2.7657,  2.7533]) - 1  - 1\n",
      "76 : tensor([-1.7665,  1.7942]) - 1  - 1\n",
      "77 : tensor([-1.1505,  1.1424]) - 1  - 1\n",
      "78 : tensor([-1.8165,  1.8211]) - 1  - 1\n",
      "79 : tensor([-0.8539,  0.8421]) - 1  - 1\n",
      "80 : tensor([-2.3703,  2.3547]) - 1  - 1\n",
      "81 : tensor([-1.4722,  1.4052]) - 1  - 1\n",
      "82 : tensor([-0.8267,  0.8014]) - 1  - 1\n",
      "83 : tensor([-1.4430,  1.4509]) - 1  - 1\n",
      "84 : tensor([-1.5762,  1.6041]) - 1  - 1\n",
      "85 : tensor([-1.6811,  1.7277]) - 1  - 1\n",
      "86 : tensor([-1.9513,  1.9586]) - 1  - 1\n",
      "87 : tensor([-1.6934,  1.6742]) - 1  - 0\n",
      "88 : tensor([-1.5606,  1.5600]) - 1  - 1\n",
      "89 : tensor([-1.2584,  1.2711]) - 1  - 1\n",
      "90 : tensor([-1.2736,  1.2676]) - 1  - 1\n",
      "91 : tensor([-1.4676,  1.4811]) - 1  - 1\n",
      "92 : tensor([-1.0343,  1.0589]) - 1  - 1\n",
      "93 : tensor([-2.5766,  2.6170]) - 1  - 1\n",
      "94 : tensor([-1.0637,  1.0474]) - 1  - 1\n",
      "95 : tensor([-1.1964,  1.1681]) - 1  - 1\n",
      "96 : tensor([-1.7645,  1.7749]) - 1  - 1\n",
      "97 : tensor([-1.6138,  1.6418]) - 1  - 1\n",
      "98 : tensor([-1.1990,  1.2144]) - 1  - 1\n",
      "99 : tensor([-1.7754,  1.8174]) - 1  - 1\n",
      "100 : tensor([-1.5326,  1.5626]) - 1  - 1\n",
      "101 : tensor([-2.3848,  2.4474]) - 1  - 1\n",
      "102 : tensor([-1.0540,  1.0381]) - 1  - 1\n",
      "103 : tensor([-2.8518,  2.9279]) - 1  - 1\n",
      "104 : tensor([-1.3952,  1.4199]) - 1  - 1\n",
      "105 : tensor([-0.9449,  0.9542]) - 1  - 0\n",
      "106 : tensor([-1.1966,  1.1980]) - 1  - 1\n",
      "107 : tensor([-1.1934,  1.1806]) - 1  - 0\n",
      "108 : tensor([-1.5632,  1.5318]) - 1  - 1\n",
      "109 : tensor([-2.4210,  2.4282]) - 1  - 1\n",
      "110 : tensor([-1.2657,  1.2588]) - 1  - 1\n",
      "111 : tensor([-1.2133,  1.2376]) - 1  - 1\n",
      "112 : tensor([-1.4132,  1.4119]) - 1  - 1\n",
      "113 : tensor([-1.3288,  1.3455]) - 1  - 1\n",
      "114 : tensor([-1.3161,  1.3005]) - 1  - 1\n",
      "115 : tensor([-1.4179,  1.4210]) - 1  - 1\n",
      "116 : tensor([-1.7252,  1.6965]) - 1  - 1\n",
      "117 : tensor([-1.2498,  1.2624]) - 1  - 1\n",
      "118 : tensor([-1.0178,  1.0065]) - 1  - 0\n",
      "119 : tensor([-1.7750,  1.8171]) - 1  - 0\n",
      "120 : tensor([-0.8734,  0.8769]) - 1  - 1\n",
      "121 : tensor([-1.9739,  1.9874]) - 1  - 1\n",
      "122 : tensor([-1.2230,  1.2505]) - 1  - 1\n",
      "123 : tensor([-2.0000,  2.0083]) - 1  - 1\n",
      "124 : tensor([-1.9151,  1.9518]) - 1  - 1\n",
      "125 : tensor([-2.3162,  2.3610]) - 1  - 1\n",
      "126 : tensor([-2.2954,  2.3014]) - 1  - 1\n",
      "127 : tensor([-1.2570,  1.2377]) - 1  - 1\n",
      "128 : tensor([-1.2251,  1.2383]) - 1  - 0\n",
      "129 : tensor([-1.4187,  1.4056]) - 1  - 1\n",
      "130 : tensor([-2.0542,  2.1025]) - 1  - 1\n",
      "131 : tensor([-1.1926,  1.1986]) - 1  - 1\n",
      "132 : tensor([-1.0363,  1.0195]) - 1  - 1\n",
      "133 : tensor([-1.7059,  1.7057]) - 1  - 1\n",
      "134 : tensor([-1.9339,  1.9346]) - 1  - 0\n",
      "135 : tensor([-1.7147,  1.7369]) - 1  - 1\n",
      "136 : tensor([-2.3417,  2.3355]) - 1  - 0\n",
      "137 : tensor([-1.7415,  1.7894]) - 1  - 1\n",
      "138 : tensor([-1.8084,  1.8181]) - 1  - 1\n",
      "139 : tensor([-1.0725,  1.0790]) - 1  - 1\n",
      "140 : tensor([-1.1959,  1.2204]) - 1  - 1\n",
      "141 : tensor([-1.5400,  1.5333]) - 1  - 1\n",
      "142 : tensor([-1.4228,  1.4499]) - 1  - 1\n",
      "143 : tensor([-1.7219,  1.7673]) - 1  - 1\n",
      "144 : tensor([-1.9530,  2.0082]) - 1  - 1\n",
      "145 : tensor([-1.2617,  1.2854]) - 1  - 1\n",
      "146 : tensor([-1.3861,  1.4081]) - 1  - 0\n",
      "147 : tensor([-1.4027,  1.4233]) - 1  - 1\n",
      "148 : tensor([-1.4414,  1.4715]) - 1  - 1\n",
      "149 : tensor([-2.4059,  2.4466]) - 1  - 1\n",
      "150 : tensor([-1.3078,  1.3404]) - 1  - 1\n",
      "151 : tensor([-1.7840,  1.7766]) - 1  - 1\n",
      "152 : tensor([-2.0301,  2.0829]) - 1  - 1\n",
      "153 : tensor([-1.5911,  1.6101]) - 1  - 1\n",
      "154 : tensor([-1.0923,  1.1287]) - 1  - 1\n",
      "155 : tensor([-0.8629,  0.8583]) - 1  - 1\n",
      "156 : tensor([-1.4872,  1.4820]) - 1  - 1\n",
      "157 : tensor([-0.8180,  0.8101]) - 1  - 1\n",
      "158 : tensor([-0.7776,  0.7892]) - 1  - 1\n",
      "159 : tensor([-2.3796,  2.4207]) - 1  - 0\n",
      "160 : tensor([-2.8778,  2.9406]) - 1  - 1\n",
      "161 : tensor([-2.6473,  2.6567]) - 1  - 1\n",
      "162 : tensor([-2.4807,  2.4853]) - 1  - 1\n",
      "163 : tensor([-2.0550,  2.0551]) - 1  - 1\n",
      "164 : tensor([-1.2517,  1.2691]) - 1  - 1\n",
      "165 : tensor([-1.8320,  1.8101]) - 1  - 1\n",
      "166 : tensor([-1.1334,  1.1744]) - 1  - 1\n",
      "167 : tensor([-1.8316,  1.8385]) - 1  - 1\n",
      "168 : tensor([-1.1491,  1.1633]) - 1  - 1\n",
      "169 : tensor([-1.7215,  1.7350]) - 1  - 1\n",
      "170 : tensor([-3.3915,  3.3101]) - 1  - 1\n",
      "171 : tensor([-1.5283,  1.5047]) - 1  - 1\n",
      "172 : tensor([-1.7373,  1.7534]) - 1  - 1\n",
      "173 : tensor([-1.5889,  1.6539]) - 1  - 1\n",
      "174 : tensor([-0.6694,  0.6796]) - 1  - 1\n",
      "175 : tensor([-1.6980,  1.7092]) - 1  - 1\n",
      "176 : tensor([-1.1280,  1.1584]) - 1  - 1\n",
      "177 : tensor([-1.6195,  1.6411]) - 1  - 1\n",
      "178 : tensor([-0.9675,  0.9596]) - 1  - 1\n",
      "179 : tensor([-0.6798,  0.6691]) - 1  - 1\n",
      "180 : tensor([-2.6678,  2.6806]) - 1  - 1\n",
      "181 : tensor([-1.5651,  1.5541]) - 1  - 1\n",
      "182 : tensor([-3.4336,  3.4765]) - 1  - 1\n",
      "183 : tensor([-1.3048,  1.3278]) - 1  - 1\n",
      "184 : tensor([-1.6951,  1.7270]) - 1  - 1\n",
      "185 : tensor([-0.7156,  0.7122]) - 1  - 1\n",
      "186 : tensor([-6.0138,  5.9831]) - 1  - 1\n",
      "187 : tensor([-1.4276,  1.3589]) - 1  - 1\n",
      "188 : tensor([-2.8189,  2.9658]) - 1  - 1\n",
      "189 : tensor([-1.3807,  1.3916]) - 1  - 1\n",
      "190 : tensor([-2.2368,  2.2415]) - 1  - 1\n",
      "191 : tensor([-1.2268,  1.2047]) - 1  - 1\n",
      "192 : tensor([-1.4572,  1.4418]) - 1  - 1\n",
      "193 : tensor([-1.7568,  1.6910]) - 1  - 1\n",
      "194 : tensor([-1.2292,  1.2476]) - 1  - 1\n",
      "195 : tensor([-1.0060,  1.0242]) - 1  - 1\n",
      "196 : tensor([-1.4126,  1.4362]) - 1  - 1\n",
      "197 : tensor([-1.8257,  1.8175]) - 1  - 1\n",
      "198 : tensor([-1.0718,  1.0625]) - 1  - 1\n",
      "199 : tensor([-1.7895,  1.8300]) - 1  - 0\n",
      "200 : tensor([-1.2090,  1.1653]) - 1  - 1\n",
      "201 : tensor([-1.2809,  1.2617]) - 1  - 1\n",
      "202 : tensor([-2.2281,  2.2525]) - 1  - 0\n",
      "203 : tensor([-1.5654,  1.5337]) - 1  - 1\n",
      "204 : tensor([-1.6164,  1.6183]) - 1  - 1\n",
      "205 : tensor([-1.5633,  1.5961]) - 1  - 1\n",
      "206 : tensor([-2.4564,  2.4792]) - 1  - 1\n",
      "207 : tensor([-1.3687,  1.3838]) - 1  - 1\n",
      "208 : tensor([-1.0834,  1.0630]) - 1  - 1\n",
      "209 : tensor([-1.7670,  1.7813]) - 1  - 1\n",
      "210 : tensor([-2.0558,  2.1119]) - 1  - 1\n",
      "211 : tensor([-1.0330,  1.0146]) - 1  - 1\n",
      "212 : tensor([-0.6568,  0.6482]) - 1  - 1\n",
      "213 : tensor([-5.6484,  5.7648]) - 1  - 1\n",
      "214 : tensor([-2.3247,  2.3520]) - 1  - 1\n",
      "215 : tensor([-1.6719,  1.6715]) - 1  - 1\n",
      "216 : tensor([-1.8672,  1.9521]) - 1  - 1\n",
      "217 : tensor([-0.9064,  0.9308]) - 1  - 1\n",
      "218 : tensor([-2.0477,  2.1447]) - 1  - 1\n",
      "219 : tensor([-1.4449,  1.4442]) - 1  - 1\n",
      "220 : tensor([-1.0611,  1.0754]) - 1  - 1\n",
      "221 : tensor([-1.8153,  1.8054]) - 1  - 1\n",
      "222 : tensor([-0.8059,  0.8163]) - 1  - 1\n",
      "223 : tensor([-1.9667,  1.9740]) - 1  - 1\n",
      "224 : tensor([-2.1387,  2.1312]) - 1  - 1\n",
      "225 : tensor([-1.9588,  1.9968]) - 1  - 1\n",
      "226 : tensor([-1.1254,  1.1157]) - 1  - 1\n",
      "227 : tensor([-1.5927,  1.6098]) - 1  - 1\n",
      "228 : tensor([-1.4401,  1.4531]) - 1  - 1\n",
      "229 : tensor([-2.6675,  2.7134]) - 1  - 1\n",
      "230 : tensor([-0.9622,  0.9421]) - 1  - 1\n",
      "231 : tensor([-2.9918,  2.9679]) - 1  - 1\n",
      "232 : tensor([-1.5350,  1.5450]) - 1  - 1\n",
      "233 : tensor([-1.9864,  1.9943]) - 1  - 1\n",
      "234 : tensor([-1.0456,  1.0606]) - 1  - 1\n",
      "235 : tensor([-1.0086,  1.0356]) - 1  - 1\n",
      "236 : tensor([-2.3910,  2.4090]) - 1  - 1\n",
      "237 : tensor([-0.8691,  0.8679]) - 1  - 1\n",
      "238 : tensor([-1.6340,  1.6517]) - 1  - 1\n",
      "239 : tensor([-2.3633,  2.4270]) - 1  - 1\n",
      "240 : tensor([-1.4779,  1.4572]) - 1  - 1\n",
      "241 : tensor([-0.9832,  1.0221]) - 1  - 1\n",
      "242 : tensor([-2.2553,  2.2557]) - 1  - 1\n",
      "243 : tensor([-0.8887,  0.8960]) - 1  - 1\n",
      "244 : tensor([-1.4796,  1.4802]) - 1  - 1\n",
      "245 : tensor([-1.5679,  1.5625]) - 1  - 1\n",
      "246 : tensor([-2.1843,  2.2123]) - 1  - 1\n",
      "247 : tensor([-0.8658,  0.8663]) - 1  - 1\n",
      "248 : tensor([-1.8034,  1.8046]) - 1  - 1\n",
      "249 : tensor([-1.4996,  1.5221]) - 1  - 1\n",
      "250 : tensor([-0.9193,  0.9366]) - 1  - 1\n",
      "251 : tensor([-0.9172,  0.8874]) - 1  - 1\n",
      "252 : tensor([-1.0201,  1.0126]) - 1  - 1\n",
      "253 : tensor([-1.6205,  1.6271]) - 1  - 1\n",
      "254 : tensor([-1.1605,  1.1637]) - 1  - 1\n",
      "255 : tensor([-1.1818,  1.2040]) - 1  - 0\n",
      "256 : tensor([-1.1738,  1.1720]) - 1  - 1\n",
      "257 : tensor([-1.2593,  1.2571]) - 1  - 0\n",
      "258 : tensor([-0.9686,  0.9768]) - 1  - 1\n",
      "259 : tensor([-1.2570,  1.2626]) - 1  - 0\n",
      "260 : tensor([-1.3635,  1.3293]) - 1  - 0\n",
      "261 : tensor([-1.2564,  1.2342]) - 1  - 1\n",
      "262 : tensor([-2.1772,  2.2011]) - 1  - 1\n",
      "263 : tensor([-1.9654,  1.9370]) - 1  - 1\n",
      "264 : tensor([-1.7294,  1.7449]) - 1  - 1\n",
      "265 : tensor([-0.8455,  0.8643]) - 1  - 1\n",
      "266 : tensor([-1.7679,  1.8025]) - 1  - 1\n",
      "267 : tensor([-0.7648,  0.7664]) - 1  - 1\n",
      "268 : tensor([-2.0627,  2.1324]) - 1  - 1\n",
      "269 : tensor([-1.6142,  1.5898]) - 1  - 1\n",
      "270 : tensor([-1.9282,  1.9660]) - 1  - 1\n",
      "271 : tensor([-1.1964,  1.1964]) - 1  - 1\n",
      "correct: 253, incorrect: 19\n"
     ]
    }
   ],
   "source": [
    "correct = 0\n",
    "incorrect = 0\n",
    "\n",
    "with torch.no_grad():\n",
    "    for i, data in enumerate(X_test):\n",
    "        y_val = model.forward(data)\n",
    "\n",
    "        # will tell us wether or not our network think the patient is sick\n",
    "        # print(f'{i} : {str(y_val)} - {y_val.argmax().item()}  - {y_test[i]}')\n",
    "\n",
    "        if (y_val.argmax().item() == y_test[i]):\n",
    "            correct += 1\n",
    "        else:\n",
    "            incorrect += 1\n",
    "\n",
    "total = correct + incorrect\n",
    "print(f'correct: {correct}, incorrect: {incorrect}, total: {total}')\n",
    "print(f'Total correct rate: {((correct / (total)) * 100):.2f} %')\n",
    "print(f'Total incorrect rate: {((incorrect / (total)) * 100):.2f} %')"
   ]
  },
  {
   "cell_type": "code",
   "execution_count": 22,
   "id": "138a920a",
   "metadata": {},
   "outputs": [],
   "source": [
    "torch.save(model.state_dict(), 'ptb-xl-trained-seq100-age35-50.pt')"
   ]
  },
  {
   "cell_type": "code",
   "execution_count": 23,
   "id": "9655adb3",
   "metadata": {},
   "outputs": [
    {
     "data": {
      "text/plain": [
       "<All keys matched successfully>"
      ]
     },
     "execution_count": 23,
     "metadata": {},
     "output_type": "execute_result"
    }
   ],
   "source": [
    "new_model = Model()\n",
    "new_model.load_state_dict(torch.load('ptb-xl-trained-seq100-age35-50.pt'))"
   ]
  },
  {
   "cell_type": "code",
   "execution_count": null,
   "id": "90c7baab",
   "metadata": {},
   "outputs": [
    {
     "name": "stdout",
     "output_type": "stream",
     "text": [
      "correct: 253, incorrect: 19, total: 272\n",
      "Total correct rate: 93.01 %\n",
      "Total incorrect rate: 6.99 %\n"
     ]
    }
   ],
   "source": [
    "correct = 0\n",
    "incorrect = 0\n",
    "\n",
    "with torch.no_grad():\n",
    "    for i, data in enumerate(X_test):\n",
    "        y_val = new_model.forward(data)\n",
    "\n",
    "        if (y_val.argmax().item() == y_test[i]):\n",
    "            correct += 1\n",
    "        else:\n",
    "            incorrect += 1\n",
    "\n",
    "total = correct + incorrect\n",
    "print(f'correct: {correct}, incorrect: {incorrect}, total: {total}')\n",
    "print(f'Total correct rate: {((correct / (total)) * 100):.2f} %')\n",
    "print(f'Total incorrect rate: {((incorrect / (total)) * 100):.2f} %')"
   ]
  }
 ],
 "metadata": {
  "kernelspec": {
   "display_name": ".venv",
   "language": "python",
   "name": "python3"
  },
  "language_info": {
   "codemirror_mode": {
    "name": "ipython",
    "version": 3
   },
   "file_extension": ".py",
   "mimetype": "text/x-python",
   "name": "python",
   "nbconvert_exporter": "python",
   "pygments_lexer": "ipython3",
   "version": "3.13.5"
  }
 },
 "nbformat": 4,
 "nbformat_minor": 5
}
